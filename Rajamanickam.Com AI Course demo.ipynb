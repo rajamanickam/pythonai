{
 "cells": [
  {
   "cell_type": "markdown",
   "id": "9fbab243-7f4d-4edf-a350-2e79c15ac8f5",
   "metadata": {},
   "source": [
    "See below the sample codes used by Rajamanickam's [AI Course](https://www.rajamanickam.com/l/LearnAI?layout=profile)"
   ]
  },
  {
   "cell_type": "code",
   "execution_count": null,
   "id": "1389abe4-848d-45c9-a5c4-d08c10062c3d",
   "metadata": {},
   "outputs": [],
   "source": [
    "print (\"hi\")\n"
   ]
  },
  {
   "cell_type": "markdown",
   "id": "5ddcd1ca-9d99-4689-8ddb-6c3450f2a33b",
   "metadata": {},
   "source": [
    " Operators"
   ]
  },
  {
   "cell_type": "code",
   "execution_count": 48,
   "id": "43fc9b07-31ab-43e8-a539-f9e447ef9187",
   "metadata": {},
   "outputs": [
    {
     "name": "stdout",
     "output_type": "stream",
     "text": [
      "13\n",
      "3.3333333333333335\n",
      "1000\n"
     ]
    }
   ],
   "source": [
    "a = 10\n",
    "b = 3\n",
    "print(a + b)  # Addition\n",
    "print(a / b)  # Division\n",
    "print(a ** b) # Exponentiation (10^3)"
   ]
  },
  {
   "cell_type": "markdown",
   "id": "bbd58703-8f97-4244-8e5c-b3c62bd8e6ec",
   "metadata": {},
   "source": [
    "Functions"
   ]
  },
  {
   "cell_type": "code",
   "execution_count": 49,
   "id": "3d4db738-bfe1-48a8-a5cf-8fce0a49183f",
   "metadata": {},
   "outputs": [
    {
     "name": "stdout",
     "output_type": "stream",
     "text": [
      "Hello, Rajamanickam.com visitor!\n"
     ]
    }
   ],
   "source": [
    "def greet(name):\n",
    "\treturn f\"Hello, {name}!\" \n",
    "print(greet(\"Rajamanickam.com visitor\"))"
   ]
  },
  {
   "cell_type": "code",
   "execution_count": 50,
   "id": "38459904-4a2e-4f29-9d5e-82bb349929a1",
   "metadata": {},
   "outputs": [
    {
     "name": "stdout",
     "output_type": "stream",
     "text": [
      "Sum: 9\n",
      "Power: 49\n"
     ]
    }
   ],
   "source": [
    "a = 7\n",
    "b = 2\n",
    "print(\"Sum:\", a + b)\n",
    "print(\"Power:\", a ** b)"
   ]
  },
  {
   "cell_type": "markdown",
   "id": "909265a3-f1c5-4bbe-a600-227555bdce4b",
   "metadata": {},
   "source": [
    "Conditional Statements"
   ]
  },
  {
   "cell_type": "code",
   "execution_count": 55,
   "id": "59367442-c0b8-48d6-99cc-de027abd2075",
   "metadata": {},
   "outputs": [
    {
     "name": "stdout",
     "output_type": "stream",
     "text": [
      "You're eligible to vote!\n"
     ]
    }
   ],
   "source": [
    "age = 18\n",
    "if age >= 18:\n",
    "    print(\"You're eligible to vote!\")\n",
    "else:\n",
    "    print(\"Sorry, not eligible.\")"
   ]
  },
  {
   "cell_type": "raw",
   "id": "032f7857-ca8c-4031-afea-7c7e183bcdf2",
   "metadata": {},
   "source": [
    " Loops: For"
   ]
  },
  {
   "cell_type": "code",
   "execution_count": 57,
   "id": "4e8fabb4-0aa0-4182-9cbd-d1d832b6a2c0",
   "metadata": {},
   "outputs": [
    {
     "name": "stdout",
     "output_type": "stream",
     "text": [
      "Iteration: 0\n",
      "Iteration: 1\n",
      "Iteration: 2\n",
      "Iteration: 3\n",
      "Iteration: 4\n"
     ]
    }
   ],
   "source": [
    "for i in range(5):\n",
    "    print(\"Iteration:\", i)"
   ]
  },
  {
   "cell_type": "code",
   "execution_count": null,
   "id": "ebbc1014-33e0-44a7-be19-ace1bd6c8254",
   "metadata": {},
   "outputs": [],
   "source": [
    " Loops: While"
   ]
  },
  {
   "cell_type": "code",
   "execution_count": 58,
   "id": "fb3e5cb8-0a14-490f-b2e1-1d7fbc58f7cf",
   "metadata": {},
   "outputs": [
    {
     "name": "stdout",
     "output_type": "stream",
     "text": [
      "Count: 0\n",
      "Count: 1\n",
      "Count: 2\n",
      "Count: 3\n",
      "Count: 4\n"
     ]
    }
   ],
   "source": [
    "count = 0\n",
    "while count < 5:\n",
    "    print(\"Count:\", count)\n",
    "    count += 1"
   ]
  },
  {
   "cell_type": "markdown",
   "id": "424bd9ae-84d4-4e64-9172-081157947a50",
   "metadata": {},
   "source": [
    "OOP"
   ]
  },
  {
   "cell_type": "code",
   "execution_count": 59,
   "id": "86422cf2-9962-4c80-90a5-c8e1c5371a58",
   "metadata": {},
   "outputs": [
    {
     "name": "stdout",
     "output_type": "stream",
     "text": [
      "Buddy says woof!\n"
     ]
    }
   ],
   "source": [
    "class Dog:\n",
    "    def __init__(self, name):\n",
    "        self.name = name\n",
    "\n",
    "    def bark(self):\n",
    "        return f\"{self.name} says woof!\"\n",
    "\n",
    "my_dog = Dog(\"Buddy\")\n",
    "print(my_dog.bark())  # Output: Buddy says woof!"
   ]
  },
  {
   "cell_type": "markdown",
   "id": "27ff9fef-4910-46d6-b655-d8ec9f01ec81",
   "metadata": {},
   "source": [
    "Exceptions"
   ]
  },
  {
   "cell_type": "code",
   "execution_count": 56,
   "id": "05b739c9-86cd-4152-96cb-1f0e1e325ae0",
   "metadata": {},
   "outputs": [
    {
     "name": "stdout",
     "output_type": "stream",
     "text": [
      "You can't divide by zero!\n"
     ]
    }
   ],
   "source": [
    "try:\n",
    "    result = 10 / 0\n",
    "except ZeroDivisionError:\n",
    "    print(\"You can't divide by zero!\")"
   ]
  },
  {
   "cell_type": "raw",
   "id": "9d219bb5-8b82-40de-bba6-8b7d435f6d11",
   "metadata": {},
   "source": [
    "NumPy Basics"
   ]
  },
  {
   "cell_type": "code",
   "execution_count": 60,
   "id": "ab21c67e-255f-4c4e-a0c8-fdd79058873d",
   "metadata": {},
   "outputs": [
    {
     "name": "stdout",
     "output_type": "stream",
     "text": [
      "Array a: [1 2 3]\n",
      "Matrix b:\n",
      " [[1 2]\n",
      " [3 4]]\n",
      "Mean of b: 2.5\n"
     ]
    }
   ],
   "source": [
    "import numpy as np\n",
    "\n",
    "a = np.array([1, 2, 3])\n",
    "b = np.array([[1, 2], [3, 4]])\n",
    "\n",
    "print(\"Array a:\", a)\n",
    "print(\"Matrix b:\\n\", b)\n",
    "print(\"Mean of b:\", np.mean(b))"
   ]
  },
  {
   "cell_type": "markdown",
   "id": "b1562afc-440b-4260-a2b6-635aba36c944",
   "metadata": {},
   "source": [
    " Pandas "
   ]
  },
  {
   "cell_type": "code",
   "execution_count": 61,
   "id": "d3550d57-a7ec-4f15-bacf-4511fb73db1a",
   "metadata": {},
   "outputs": [
    {
     "name": "stdout",
     "output_type": "stream",
     "text": [
      "      Name  Score\n",
      "0    Alice     85\n",
      "1      Bob     90\n",
      "2  Charlie     78\n",
      "Average Score: 84.33333333333333\n"
     ]
    }
   ],
   "source": [
    "import pandas as pd\n",
    "\n",
    "data = {\n",
    "    \"Name\": [\"Alice\", \"Bob\", \"Charlie\"],\n",
    "    \"Score\": [85, 90, 78]\n",
    "}\n",
    "df = pd.DataFrame(data)\n",
    "\n",
    "print(df)\n",
    "print(\"Average Score:\", df[\"Score\"].mean())"
   ]
  },
  {
   "cell_type": "markdown",
   "id": "1d266418-8a33-4f77-8b78-9a9cb906eaa6",
   "metadata": {},
   "source": [
    "Simple Plot with Matplotlib"
   ]
  },
  {
   "cell_type": "code",
   "execution_count": 62,
   "id": "41101e81-575a-4c37-9ffa-d4615b6b1239",
   "metadata": {},
   "outputs": [
    {
     "data": {
      "image/png": "[encoded data removed]",
      "text/plain": [
       "<Figure size 640x480 with 1 Axes>"
      ]
     },
     "metadata": {},
     "output_type": "display_data"
    }
   ],
   "source": [
    "import matplotlib.pyplot as plt\n",
    "\n",
    "x = [1, 2, 3, 4]\n",
    "y = [10, 20, 25, 30]\n",
    "\n",
    "plt.plot(x, y)\n",
    "plt.title(\"Line Graph Example\")\n",
    "plt.xlabel(\"X-axis\")\n",
    "plt.ylabel(\"Y-axis\")\n",
    "plt.show()\n",
    "\n"
   ]
  },
  {
   "cell_type": "markdown",
   "id": "d77c71ba-be0c-465c-94ec-737514f4364d",
   "metadata": {},
   "source": [
    "Seaborn Chart"
   ]
  },
  {
   "cell_type": "code",
   "execution_count": 64,
   "id": "05cd9fb3-2ccf-4619-aa52-3af408a76a06",
   "metadata": {},
   "outputs": [
    {
     "data": {
      "image/png": "[encoded data removed]",
      "text/plain": [
       "<Figure size 640x480 with 1 Axes>"
      ]
     },
     "metadata": {},
     "output_type": "display_data"
    }
   ],
   "source": [
    "import seaborn as sns\n",
    "import pandas as pd\n",
    "\n",
    "df = pd.DataFrame({\n",
    "    \"Marks\": [78, 85, 92, 88, 76, 95],\n",
    "    \"Subject\": [\"Math\", \"Science\", \"English\", \"Math\", \"Science\", \"English\"]\n",
    "})\n",
    "\n",
    "sns.boxplot(x=\"Subject\", y=\"Marks\", data=df)\n",
    "plt.title(\"Marks Distribution by Subject\")\n",
    "plt.show()\n",
    "\n"
   ]
  },
  {
   "cell_type": "raw",
   "id": "68927d62-31fd-4340-a7a9-5720dc27ff42",
   "metadata": {},
   "source": [
    "Basic ML with Scikit-learn"
   ]
  },
  {
   "cell_type": "code",
   "execution_count": 67,
   "id": "9279562a-86d8-43de-9b4a-2dd9ec283cff",
   "metadata": {},
   "outputs": [
    {
     "name": "stdout",
     "output_type": "stream",
     "text": [
      "Accuracy: 0.9666666666666667\n",
      "Predicted class: virginica\n"
     ]
    }
   ],
   "source": [
    "from sklearn.datasets import load_iris\n",
    "from sklearn.model_selection import train_test_split\n",
    "from sklearn.tree import DecisionTreeClassifier\n",
    "from sklearn.metrics import accuracy_score\n",
    "\n",
    "# Load dataset\n",
    "iris = load_iris()\n",
    "X, y = iris.data, iris.target\n",
    "\n",
    "# Split data\n",
    "X_train, X_test, y_train, y_test = train_test_split(X, y, test_size=0.2)\n",
    "\n",
    "# Train model\n",
    "model = DecisionTreeClassifier()\n",
    "model.fit(X_train, y_train)\n",
    "\n",
    "# Predict and evaluate\n",
    "predictions = model.predict(X_test)\n",
    "print(\"Accuracy:\", accuracy_score(y_test, predictions))\n",
    "\n",
    "# Predict a new sample\n",
    "new_sample = [[2.3, 1.8, 0.1, 4.5]]  # Example flower\n",
    "prediction = model.predict(new_sample)\n",
    "print(f\"Predicted class: {iris.target_names[prediction[0]]}\")"
   ]
  },
  {
   "cell_type": "markdown",
   "id": "475fad43-c81c-47d9-a501-6feb69cadf7a",
   "metadata": {},
   "source": [
    "Loading Data with Pandas"
   ]
  },
  {
   "cell_type": "code",
   "execution_count": 71,
   "id": "d96d5eda-6a34-4575-a10a-931870a45667",
   "metadata": {},
   "outputs": [
    {
     "name": "stdout",
     "output_type": "stream",
     "text": [
      "                                          book title    Price\n",
      "0               Dream Big, Move Forward Inch by Inch       $5\n",
      "1  Mastering SQL: A Comprehensive Guide to Databa...        5\n",
      "2                Best Motivational Quotes Collection        0\n",
      "                                          book title  Price\n",
      "0               Dream Big, Move Forward Inch by Inch    5.0\n",
      "1  Mastering SQL: A Comprehensive Guide to Databa...    5.0\n",
      "2                Best Motivational Quotes Collection    0.0\n"
     ]
    }
   ],
   "source": [
    "import pandas as pd\n",
    "\n",
    "df = pd.read_csv(\"sample_data.csv\")\n",
    "print(df.head())  # View first 5 rows\n",
    "df.columns = df.columns.str.strip()  # Remove extra spaces\n",
    "df[\"Price\"] = df[\"Price\"].str.replace(\"$\", \"\").astype(float)\n",
    "print(df.head())  # print after preprocessing\n",
    "\n",
    "\n"
   ]
  },
  {
   "cell_type": "raw",
   "id": "c623f33c-0324-46cc-94f8-060c2297b290",
   "metadata": {},
   "source": [
    "Tokenization"
   ]
  },
  {
   "cell_type": "code",
   "execution_count": 72,
   "id": "100f24fe-454d-4d8a-b97b-25a0b40d8ce4",
   "metadata": {},
   "outputs": [
    {
     "name": "stderr",
     "output_type": "stream",
     "text": [
      "[nltk_data] Downloading package punkt to /home/raj/nltk_data...\n"
     ]
    },
    {
     "name": "stdout",
     "output_type": "stream",
     "text": [
      "Words: ['AI', 'is', 'amazing', '.', 'NLP', 'helps', 'machines', 'understand', 'language', '.']\n",
      "Sentences: ['AI is amazing.', 'NLP helps machines understand language.']\n"
     ]
    },
    {
     "name": "stderr",
     "output_type": "stream",
     "text": [
      "[nltk_data]   Package punkt is already up-to-date!\n"
     ]
    }
   ],
   "source": [
    "from nltk.tokenize import word_tokenize, sent_tokenize\n",
    "import nltk\n",
    "nltk.download('punkt')\n",
    "\n",
    "text = \"AI is amazing. NLP helps machines understand language.\"\n",
    "words = word_tokenize(text)\n",
    "sentences = sent_tokenize(text)\n",
    "\n",
    "print(\"Words:\", words)\n",
    "print(\"Sentences:\", sentences)\n",
    "\n"
   ]
  },
  {
   "cell_type": "raw",
   "id": "ad5a7db3-62cf-4ec4-a10e-5aa1c1b87c41",
   "metadata": {},
   "source": [
    "Word Embeddings"
   ]
  },
  {
   "cell_type": "code",
   "execution_count": 73,
   "id": "f58549f2-78a7-41b0-b19c-ff1bf2865a9c",
   "metadata": {},
   "outputs": [
    {
     "name": "stdout",
     "output_type": "stream",
     "text": [
      "['ai' 'and' 'fun' 'future' 'is' 'language' 'learning' 'machine' 'natural'\n",
      " 'processing' 'the']\n",
      "[[0.42804604 0.         0.         0.5628291  0.42804604 0.\n",
      "  0.         0.         0.         0.         0.5628291 ]\n",
      " [0.40204024 0.52863461 0.         0.         0.         0.\n",
      "  0.52863461 0.52863461 0.         0.         0.        ]\n",
      " [0.         0.         0.46735098 0.         0.35543247 0.46735098\n",
      "  0.         0.         0.46735098 0.46735098 0.        ]]\n"
     ]
    }
   ],
   "source": [
    "from sklearn.feature_extraction.text import TfidfVectorizer\n",
    "corpus = [\"AI is the future\", \"AI and machine learning\", \"Natural language processing is fun\"]\n",
    "vectorizer = TfidfVectorizer()\n",
    "X = vectorizer.fit_transform(corpus)\n",
    "print(vectorizer.get_feature_names_out())\n",
    "print(X.toarray())"
   ]
  },
  {
   "cell_type": "code",
   "execution_count": 79,
   "id": "2280fd51-4eac-4cdb-87ce-358afb84a9dd",
   "metadata": {},
   "outputs": [
    {
     "name": "stderr",
     "output_type": "stream",
     "text": [
      "No model was supplied, defaulted to distilbert/distilbert-base-uncased-finetuned-sst-2-english and revision 714eb0f (https://huggingface.co/distilbert/distilbert-base-uncased-finetuned-sst-2-english).\n",
      "Using a pipeline without specifying a model name and revision in production is not recommended.\n",
      "Device set to use cpu\n"
     ]
    },
    {
     "name": "stdout",
     "output_type": "stream",
     "text": [
      "Label: POSITIVE, Confidence: 0.95\n"
     ]
    }
   ],
   "source": [
    "from transformers import pipeline\n",
    "\n",
    "classifier = pipeline(\"sentiment-analysis\")\n",
    "result = classifier(\"I think probably I love using Python for AI!\")[0]\n",
    "print(f\"Label: {result['label']}, Confidence: {result['score']:.2f}\")"
   ]
  },
  {
   "cell_type": "code",
   "execution_count": null,
   "id": "a52bb6da-c111-492c-8d71-e2ac9b4c7e34",
   "metadata": {},
   "outputs": [],
   "source": []
  }
 ],
 "metadata": {
  "kernelspec": {
   "display_name": "Python 3 (ipykernel)",
   "language": "python",
   "name": "python3"
  },
  "language_info": {
   "codemirror_mode": {
    "name": "ipython",
    "version": 3
   },
   "file_extension": ".py",
   "mimetype": "text/x-python",
   "name": "python",
   "nbconvert_exporter": "python",
   "pygments_lexer": "ipython3",
   "version": "3.10.12"
  }
 },
 "nbformat": 4,
 "nbformat_minor": 5
}
